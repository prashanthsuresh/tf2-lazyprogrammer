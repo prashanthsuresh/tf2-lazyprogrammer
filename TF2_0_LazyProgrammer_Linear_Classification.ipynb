{
  "nbformat": 4,
  "nbformat_minor": 0,
  "metadata": {
    "colab": {
      "name": "TF2.0-LazyProgrammer-Linear Classification.ipynb",
      "provenance": [],
      "collapsed_sections": [],
      "authorship_tag": "ABX9TyPPwBwPprBlVZx+rxIirX6I",
      "include_colab_link": true
    },
    "kernelspec": {
      "name": "python3",
      "display_name": "Python 3"
    }
  },
  "cells": [
    {
      "cell_type": "markdown",
      "metadata": {
        "id": "view-in-github",
        "colab_type": "text"
      },
      "source": [
        "<a href=\"https://colab.research.google.com/github/prashanthsuresh/tf2-lazyprogrammer/blob/master/TF2_0_LazyProgrammer_Linear_Classification.ipynb\" target=\"_parent\"><img src=\"https://colab.research.google.com/assets/colab-badge.svg\" alt=\"Open In Colab\"/></a>"
      ]
    },
    {
      "cell_type": "code",
      "metadata": {
        "id": "dwbgEpzNhSFV",
        "colab_type": "code",
        "colab": {
          "base_uri": "https://localhost:8080/",
          "height": 34
        },
        "outputId": "77e03ccf-3a3d-499b-d7f3-c4d543e21dd6"
      },
      "source": [
        "import tensorflow as tf\n",
        "print(tf.__version__)"
      ],
      "execution_count": 1,
      "outputs": [
        {
          "output_type": "stream",
          "text": [
            "2.2.0\n"
          ],
          "name": "stdout"
        }
      ]
    },
    {
      "cell_type": "code",
      "metadata": {
        "id": "WfFFkOX9hUcK",
        "colab_type": "code",
        "colab": {
          "base_uri": "https://localhost:8080/",
          "height": 34
        },
        "outputId": "96d538c5-3695-4e28-e22b-6f27b0cb8f47"
      },
      "source": [
        "from sklearn.model_selection import train_test_split\n",
        "from sklearn.datasets import load_breast_cancer\n",
        "from sklearn.preprocessing import StandardScaler\n",
        "\n",
        "data = load_breast_cancer()\n",
        "print(type(data))"
      ],
      "execution_count": 8,
      "outputs": [
        {
          "output_type": "stream",
          "text": [
            "<class 'sklearn.utils.Bunch'>\n"
          ],
          "name": "stdout"
        }
      ]
    },
    {
      "cell_type": "code",
      "metadata": {
        "id": "YotWFxvGhk56",
        "colab_type": "code",
        "colab": {
          "base_uri": "https://localhost:8080/",
          "height": 34
        },
        "outputId": "76cf415a-777d-4387-dff4-40645b97098f"
      },
      "source": [
        "data.keys()"
      ],
      "execution_count": 3,
      "outputs": [
        {
          "output_type": "execute_result",
          "data": {
            "text/plain": [
              "dict_keys(['data', 'target', 'target_names', 'DESCR', 'feature_names', 'filename'])"
            ]
          },
          "metadata": {
            "tags": []
          },
          "execution_count": 3
        }
      ]
    },
    {
      "cell_type": "code",
      "metadata": {
        "id": "aeMDtXKLnPSE",
        "colab_type": "code",
        "colab": {
          "base_uri": "https://localhost:8080/",
          "height": 34
        },
        "outputId": "e9695795-a28d-42e8-bfab-0649813f4888"
      },
      "source": [
        "data.data.shape"
      ],
      "execution_count": 4,
      "outputs": [
        {
          "output_type": "execute_result",
          "data": {
            "text/plain": [
              "(569, 30)"
            ]
          },
          "metadata": {
            "tags": []
          },
          "execution_count": 4
        }
      ]
    },
    {
      "cell_type": "code",
      "metadata": {
        "id": "gGBW_MJVnZKU",
        "colab_type": "code",
        "colab": {
          "base_uri": "https://localhost:8080/",
          "height": 459
        },
        "outputId": "caf0c7f6-e483-44e6-ca73-5f96dd4fd0d0"
      },
      "source": [
        "data.target"
      ],
      "execution_count": 5,
      "outputs": [
        {
          "output_type": "execute_result",
          "data": {
            "text/plain": [
              "array([0, 0, 0, 0, 0, 0, 0, 0, 0, 0, 0, 0, 0, 0, 0, 0, 0, 0, 0, 1, 1, 1,\n",
              "       0, 0, 0, 0, 0, 0, 0, 0, 0, 0, 0, 0, 0, 0, 0, 1, 0, 0, 0, 0, 0, 0,\n",
              "       0, 0, 1, 0, 1, 1, 1, 1, 1, 0, 0, 1, 0, 0, 1, 1, 1, 1, 0, 1, 0, 0,\n",
              "       1, 1, 1, 1, 0, 1, 0, 0, 1, 0, 1, 0, 0, 1, 1, 1, 0, 0, 1, 0, 0, 0,\n",
              "       1, 1, 1, 0, 1, 1, 0, 0, 1, 1, 1, 0, 0, 1, 1, 1, 1, 0, 1, 1, 0, 1,\n",
              "       1, 1, 1, 1, 1, 1, 1, 0, 0, 0, 1, 0, 0, 1, 1, 1, 0, 0, 1, 0, 1, 0,\n",
              "       0, 1, 0, 0, 1, 1, 0, 1, 1, 0, 1, 1, 1, 1, 0, 1, 1, 1, 1, 1, 1, 1,\n",
              "       1, 1, 0, 1, 1, 1, 1, 0, 0, 1, 0, 1, 1, 0, 0, 1, 1, 0, 0, 1, 1, 1,\n",
              "       1, 0, 1, 1, 0, 0, 0, 1, 0, 1, 0, 1, 1, 1, 0, 1, 1, 0, 0, 1, 0, 0,\n",
              "       0, 0, 1, 0, 0, 0, 1, 0, 1, 0, 1, 1, 0, 1, 0, 0, 0, 0, 1, 1, 0, 0,\n",
              "       1, 1, 1, 0, 1, 1, 1, 1, 1, 0, 0, 1, 1, 0, 1, 1, 0, 0, 1, 0, 1, 1,\n",
              "       1, 1, 0, 1, 1, 1, 1, 1, 0, 1, 0, 0, 0, 0, 0, 0, 0, 0, 0, 0, 0, 0,\n",
              "       0, 0, 1, 1, 1, 1, 1, 1, 0, 1, 0, 1, 1, 0, 1, 1, 0, 1, 0, 0, 1, 1,\n",
              "       1, 1, 1, 1, 1, 1, 1, 1, 1, 1, 1, 0, 1, 1, 0, 1, 0, 1, 1, 1, 1, 1,\n",
              "       1, 1, 1, 1, 1, 1, 1, 1, 1, 0, 1, 1, 1, 0, 1, 0, 1, 1, 1, 1, 0, 0,\n",
              "       0, 1, 1, 1, 1, 0, 1, 0, 1, 0, 1, 1, 1, 0, 1, 1, 1, 1, 1, 1, 1, 0,\n",
              "       0, 0, 1, 1, 1, 1, 1, 1, 1, 1, 1, 1, 1, 0, 0, 1, 0, 0, 0, 1, 0, 0,\n",
              "       1, 1, 1, 1, 1, 0, 1, 1, 1, 1, 1, 0, 1, 1, 1, 0, 1, 1, 0, 0, 1, 1,\n",
              "       1, 1, 1, 1, 0, 1, 1, 1, 1, 1, 1, 1, 0, 1, 1, 1, 1, 1, 0, 1, 1, 0,\n",
              "       1, 1, 1, 1, 1, 1, 1, 1, 1, 1, 1, 1, 0, 1, 0, 0, 1, 0, 1, 1, 1, 1,\n",
              "       1, 0, 1, 1, 0, 1, 0, 1, 1, 0, 1, 0, 1, 1, 1, 1, 1, 1, 1, 1, 0, 0,\n",
              "       1, 1, 1, 1, 1, 1, 0, 1, 1, 1, 1, 1, 1, 1, 1, 1, 1, 0, 1, 1, 1, 1,\n",
              "       1, 1, 1, 0, 1, 0, 1, 1, 0, 1, 1, 1, 1, 1, 0, 0, 1, 0, 1, 0, 1, 1,\n",
              "       1, 1, 1, 0, 1, 1, 0, 1, 0, 1, 0, 0, 1, 1, 1, 0, 1, 1, 1, 1, 1, 1,\n",
              "       1, 1, 1, 1, 1, 0, 1, 0, 0, 1, 1, 1, 1, 1, 1, 1, 1, 1, 1, 1, 1, 1,\n",
              "       1, 1, 1, 1, 1, 1, 1, 1, 1, 1, 1, 1, 0, 0, 0, 0, 0, 0, 1])"
            ]
          },
          "metadata": {
            "tags": []
          },
          "execution_count": 5
        }
      ]
    },
    {
      "cell_type": "code",
      "metadata": {
        "id": "TWiS0F2sneiN",
        "colab_type": "code",
        "colab": {
          "base_uri": "https://localhost:8080/",
          "height": 187
        },
        "outputId": "9b4e90ce-6be1-47b9-9896-f3f189c0a839"
      },
      "source": [
        "data.feature_names"
      ],
      "execution_count": 6,
      "outputs": [
        {
          "output_type": "execute_result",
          "data": {
            "text/plain": [
              "array(['mean radius', 'mean texture', 'mean perimeter', 'mean area',\n",
              "       'mean smoothness', 'mean compactness', 'mean concavity',\n",
              "       'mean concave points', 'mean symmetry', 'mean fractal dimension',\n",
              "       'radius error', 'texture error', 'perimeter error', 'area error',\n",
              "       'smoothness error', 'compactness error', 'concavity error',\n",
              "       'concave points error', 'symmetry error',\n",
              "       'fractal dimension error', 'worst radius', 'worst texture',\n",
              "       'worst perimeter', 'worst area', 'worst smoothness',\n",
              "       'worst compactness', 'worst concavity', 'worst concave points',\n",
              "       'worst symmetry', 'worst fractal dimension'], dtype='<U23')"
            ]
          },
          "metadata": {
            "tags": []
          },
          "execution_count": 6
        }
      ]
    },
    {
      "cell_type": "code",
      "metadata": {
        "id": "5DMVuXrAvjqz",
        "colab_type": "code",
        "colab": {}
      },
      "source": [
        "X_train, X_test, Y_train, Y_test = train_test_split(data['data'], data.target, test_size=0.2)\n",
        "N, D = X_train.shape"
      ],
      "execution_count": 7,
      "outputs": []
    },
    {
      "cell_type": "code",
      "metadata": {
        "id": "138iHOhhv-oH",
        "colab_type": "code",
        "colab": {}
      },
      "source": [
        "scaler = StandardScaler()\n",
        "X_train = scaler.fit_transform(X_train)\n",
        "X_test = scaler.transform(X_test)"
      ],
      "execution_count": 9,
      "outputs": []
    },
    {
      "cell_type": "code",
      "metadata": {
        "id": "_ZJgXzaxfepn",
        "colab_type": "code",
        "colab": {}
      },
      "source": [
        "#Build the TF model\n",
        "\n",
        "model = tf.keras.models.Sequential()\n",
        "model.add(tf.keras.layers.Dense(1, input_shape = (D,), activation='sigmoid'))"
      ],
      "execution_count": 11,
      "outputs": []
    },
    {
      "cell_type": "code",
      "metadata": {
        "id": "O-Hhd6NHgg5y",
        "colab_type": "code",
        "colab": {}
      },
      "source": [
        "#Compile the model\n",
        "\n",
        "model.compile(optimizer='adam', loss='binary_crossentropy', metrics=['accuracy'])"
      ],
      "execution_count": 12,
      "outputs": []
    },
    {
      "cell_type": "code",
      "metadata": {
        "id": "UhLZybS1gw9x",
        "colab_type": "code",
        "colab": {
          "base_uri": "https://localhost:8080/",
          "height": 1000
        },
        "outputId": "348968c8-ff50-4791-c8da-9eeb82703a24"
      },
      "source": [
        "#Train the model\n",
        "\n",
        "r = model.fit(X_train, Y_train, validation_data=(X_test, Y_test),epochs=100)"
      ],
      "execution_count": 15,
      "outputs": [
        {
          "output_type": "stream",
          "text": [
            "Epoch 1/100\n",
            "15/15 [==============================] - 0s 3ms/step - loss: 0.0880 - accuracy: 0.9802 - val_loss: 0.1086 - val_accuracy: 0.9649\n",
            "Epoch 2/100\n",
            "15/15 [==============================] - 0s 4ms/step - loss: 0.0876 - accuracy: 0.9802 - val_loss: 0.1081 - val_accuracy: 0.9737\n",
            "Epoch 3/100\n",
            "15/15 [==============================] - 0s 3ms/step - loss: 0.0872 - accuracy: 0.9802 - val_loss: 0.1078 - val_accuracy: 0.9737\n",
            "Epoch 4/100\n",
            "15/15 [==============================] - 0s 3ms/step - loss: 0.0868 - accuracy: 0.9802 - val_loss: 0.1072 - val_accuracy: 0.9737\n",
            "Epoch 5/100\n",
            "15/15 [==============================] - 0s 3ms/step - loss: 0.0864 - accuracy: 0.9802 - val_loss: 0.1065 - val_accuracy: 0.9737\n",
            "Epoch 6/100\n",
            "15/15 [==============================] - 0s 3ms/step - loss: 0.0861 - accuracy: 0.9802 - val_loss: 0.1062 - val_accuracy: 0.9737\n",
            "Epoch 7/100\n",
            "15/15 [==============================] - 0s 4ms/step - loss: 0.0857 - accuracy: 0.9802 - val_loss: 0.1056 - val_accuracy: 0.9737\n",
            "Epoch 8/100\n",
            "15/15 [==============================] - 0s 3ms/step - loss: 0.0854 - accuracy: 0.9802 - val_loss: 0.1050 - val_accuracy: 0.9737\n",
            "Epoch 9/100\n",
            "15/15 [==============================] - 0s 3ms/step - loss: 0.0849 - accuracy: 0.9802 - val_loss: 0.1045 - val_accuracy: 0.9737\n",
            "Epoch 10/100\n",
            "15/15 [==============================] - 0s 3ms/step - loss: 0.0846 - accuracy: 0.9824 - val_loss: 0.1042 - val_accuracy: 0.9737\n",
            "Epoch 11/100\n",
            "15/15 [==============================] - 0s 4ms/step - loss: 0.0843 - accuracy: 0.9824 - val_loss: 0.1037 - val_accuracy: 0.9737\n",
            "Epoch 12/100\n",
            "15/15 [==============================] - 0s 4ms/step - loss: 0.0840 - accuracy: 0.9802 - val_loss: 0.1033 - val_accuracy: 0.9737\n",
            "Epoch 13/100\n",
            "15/15 [==============================] - 0s 4ms/step - loss: 0.0836 - accuracy: 0.9824 - val_loss: 0.1030 - val_accuracy: 0.9737\n",
            "Epoch 14/100\n",
            "15/15 [==============================] - 0s 3ms/step - loss: 0.0832 - accuracy: 0.9824 - val_loss: 0.1025 - val_accuracy: 0.9737\n",
            "Epoch 15/100\n",
            "15/15 [==============================] - 0s 3ms/step - loss: 0.0829 - accuracy: 0.9824 - val_loss: 0.1021 - val_accuracy: 0.9737\n",
            "Epoch 16/100\n",
            "15/15 [==============================] - 0s 3ms/step - loss: 0.0826 - accuracy: 0.9824 - val_loss: 0.1017 - val_accuracy: 0.9737\n",
            "Epoch 17/100\n",
            "15/15 [==============================] - 0s 3ms/step - loss: 0.0823 - accuracy: 0.9824 - val_loss: 0.1011 - val_accuracy: 0.9737\n",
            "Epoch 18/100\n",
            "15/15 [==============================] - 0s 3ms/step - loss: 0.0819 - accuracy: 0.9824 - val_loss: 0.1009 - val_accuracy: 0.9737\n",
            "Epoch 19/100\n",
            "15/15 [==============================] - 0s 3ms/step - loss: 0.0816 - accuracy: 0.9824 - val_loss: 0.1005 - val_accuracy: 0.9737\n",
            "Epoch 20/100\n",
            "15/15 [==============================] - 0s 4ms/step - loss: 0.0813 - accuracy: 0.9824 - val_loss: 0.1000 - val_accuracy: 0.9737\n",
            "Epoch 21/100\n",
            "15/15 [==============================] - 0s 3ms/step - loss: 0.0811 - accuracy: 0.9824 - val_loss: 0.0997 - val_accuracy: 0.9737\n",
            "Epoch 22/100\n",
            "15/15 [==============================] - 0s 3ms/step - loss: 0.0808 - accuracy: 0.9824 - val_loss: 0.0992 - val_accuracy: 0.9737\n",
            "Epoch 23/100\n",
            "15/15 [==============================] - 0s 3ms/step - loss: 0.0805 - accuracy: 0.9824 - val_loss: 0.0989 - val_accuracy: 0.9737\n",
            "Epoch 24/100\n",
            "15/15 [==============================] - 0s 3ms/step - loss: 0.0802 - accuracy: 0.9824 - val_loss: 0.0986 - val_accuracy: 0.9737\n",
            "Epoch 25/100\n",
            "15/15 [==============================] - 0s 4ms/step - loss: 0.0800 - accuracy: 0.9824 - val_loss: 0.0983 - val_accuracy: 0.9737\n",
            "Epoch 26/100\n",
            "15/15 [==============================] - 0s 4ms/step - loss: 0.0797 - accuracy: 0.9824 - val_loss: 0.0980 - val_accuracy: 0.9737\n",
            "Epoch 27/100\n",
            "15/15 [==============================] - 0s 3ms/step - loss: 0.0794 - accuracy: 0.9824 - val_loss: 0.0977 - val_accuracy: 0.9737\n",
            "Epoch 28/100\n",
            "15/15 [==============================] - 0s 3ms/step - loss: 0.0792 - accuracy: 0.9824 - val_loss: 0.0973 - val_accuracy: 0.9737\n",
            "Epoch 29/100\n",
            "15/15 [==============================] - 0s 3ms/step - loss: 0.0789 - accuracy: 0.9824 - val_loss: 0.0967 - val_accuracy: 0.9737\n",
            "Epoch 30/100\n",
            "15/15 [==============================] - 0s 4ms/step - loss: 0.0786 - accuracy: 0.9824 - val_loss: 0.0965 - val_accuracy: 0.9737\n",
            "Epoch 31/100\n",
            "15/15 [==============================] - 0s 3ms/step - loss: 0.0784 - accuracy: 0.9824 - val_loss: 0.0961 - val_accuracy: 0.9737\n",
            "Epoch 32/100\n",
            "15/15 [==============================] - 0s 3ms/step - loss: 0.0781 - accuracy: 0.9824 - val_loss: 0.0957 - val_accuracy: 0.9737\n",
            "Epoch 33/100\n",
            "15/15 [==============================] - 0s 3ms/step - loss: 0.0779 - accuracy: 0.9824 - val_loss: 0.0952 - val_accuracy: 0.9737\n",
            "Epoch 34/100\n",
            "15/15 [==============================] - 0s 3ms/step - loss: 0.0776 - accuracy: 0.9824 - val_loss: 0.0948 - val_accuracy: 0.9737\n",
            "Epoch 35/100\n",
            "15/15 [==============================] - 0s 3ms/step - loss: 0.0774 - accuracy: 0.9824 - val_loss: 0.0946 - val_accuracy: 0.9737\n",
            "Epoch 36/100\n",
            "15/15 [==============================] - 0s 4ms/step - loss: 0.0772 - accuracy: 0.9824 - val_loss: 0.0942 - val_accuracy: 0.9737\n",
            "Epoch 37/100\n",
            "15/15 [==============================] - 0s 3ms/step - loss: 0.0769 - accuracy: 0.9824 - val_loss: 0.0941 - val_accuracy: 0.9737\n",
            "Epoch 38/100\n",
            "15/15 [==============================] - 0s 3ms/step - loss: 0.0767 - accuracy: 0.9802 - val_loss: 0.0940 - val_accuracy: 0.9737\n",
            "Epoch 39/100\n",
            "15/15 [==============================] - 0s 4ms/step - loss: 0.0764 - accuracy: 0.9802 - val_loss: 0.0936 - val_accuracy: 0.9737\n",
            "Epoch 40/100\n",
            "15/15 [==============================] - 0s 3ms/step - loss: 0.0762 - accuracy: 0.9824 - val_loss: 0.0933 - val_accuracy: 0.9737\n",
            "Epoch 41/100\n",
            "15/15 [==============================] - 0s 3ms/step - loss: 0.0760 - accuracy: 0.9824 - val_loss: 0.0929 - val_accuracy: 0.9737\n",
            "Epoch 42/100\n",
            "15/15 [==============================] - 0s 4ms/step - loss: 0.0758 - accuracy: 0.9802 - val_loss: 0.0927 - val_accuracy: 0.9737\n",
            "Epoch 43/100\n",
            "15/15 [==============================] - 0s 4ms/step - loss: 0.0755 - accuracy: 0.9802 - val_loss: 0.0925 - val_accuracy: 0.9737\n",
            "Epoch 44/100\n",
            "15/15 [==============================] - 0s 3ms/step - loss: 0.0754 - accuracy: 0.9802 - val_loss: 0.0920 - val_accuracy: 0.9737\n",
            "Epoch 45/100\n",
            "15/15 [==============================] - 0s 3ms/step - loss: 0.0751 - accuracy: 0.9824 - val_loss: 0.0919 - val_accuracy: 0.9737\n",
            "Epoch 46/100\n",
            "15/15 [==============================] - 0s 3ms/step - loss: 0.0749 - accuracy: 0.9824 - val_loss: 0.0917 - val_accuracy: 0.9737\n",
            "Epoch 47/100\n",
            "15/15 [==============================] - 0s 4ms/step - loss: 0.0747 - accuracy: 0.9824 - val_loss: 0.0914 - val_accuracy: 0.9737\n",
            "Epoch 48/100\n",
            "15/15 [==============================] - 0s 4ms/step - loss: 0.0746 - accuracy: 0.9802 - val_loss: 0.0913 - val_accuracy: 0.9737\n",
            "Epoch 49/100\n",
            "15/15 [==============================] - 0s 3ms/step - loss: 0.0743 - accuracy: 0.9802 - val_loss: 0.0910 - val_accuracy: 0.9737\n",
            "Epoch 50/100\n",
            "15/15 [==============================] - 0s 3ms/step - loss: 0.0741 - accuracy: 0.9802 - val_loss: 0.0909 - val_accuracy: 0.9737\n",
            "Epoch 51/100\n",
            "15/15 [==============================] - 0s 3ms/step - loss: 0.0739 - accuracy: 0.9802 - val_loss: 0.0905 - val_accuracy: 0.9737\n",
            "Epoch 52/100\n",
            "15/15 [==============================] - 0s 4ms/step - loss: 0.0738 - accuracy: 0.9802 - val_loss: 0.0902 - val_accuracy: 0.9737\n",
            "Epoch 53/100\n",
            "15/15 [==============================] - 0s 3ms/step - loss: 0.0736 - accuracy: 0.9802 - val_loss: 0.0898 - val_accuracy: 0.9737\n",
            "Epoch 54/100\n",
            "15/15 [==============================] - 0s 3ms/step - loss: 0.0734 - accuracy: 0.9824 - val_loss: 0.0897 - val_accuracy: 0.9737\n",
            "Epoch 55/100\n",
            "15/15 [==============================] - 0s 3ms/step - loss: 0.0732 - accuracy: 0.9802 - val_loss: 0.0895 - val_accuracy: 0.9737\n",
            "Epoch 56/100\n",
            "15/15 [==============================] - 0s 3ms/step - loss: 0.0730 - accuracy: 0.9802 - val_loss: 0.0893 - val_accuracy: 0.9737\n",
            "Epoch 57/100\n",
            "15/15 [==============================] - 0s 3ms/step - loss: 0.0728 - accuracy: 0.9802 - val_loss: 0.0891 - val_accuracy: 0.9737\n",
            "Epoch 58/100\n",
            "15/15 [==============================] - 0s 4ms/step - loss: 0.0726 - accuracy: 0.9802 - val_loss: 0.0888 - val_accuracy: 0.9737\n",
            "Epoch 59/100\n",
            "15/15 [==============================] - 0s 3ms/step - loss: 0.0724 - accuracy: 0.9802 - val_loss: 0.0887 - val_accuracy: 0.9737\n",
            "Epoch 60/100\n",
            "15/15 [==============================] - 0s 3ms/step - loss: 0.0723 - accuracy: 0.9802 - val_loss: 0.0885 - val_accuracy: 0.9737\n",
            "Epoch 61/100\n",
            "15/15 [==============================] - 0s 4ms/step - loss: 0.0721 - accuracy: 0.9802 - val_loss: 0.0883 - val_accuracy: 0.9737\n",
            "Epoch 62/100\n",
            "15/15 [==============================] - 0s 3ms/step - loss: 0.0719 - accuracy: 0.9802 - val_loss: 0.0881 - val_accuracy: 0.9737\n",
            "Epoch 63/100\n",
            "15/15 [==============================] - 0s 3ms/step - loss: 0.0717 - accuracy: 0.9802 - val_loss: 0.0879 - val_accuracy: 0.9737\n",
            "Epoch 64/100\n",
            "15/15 [==============================] - 0s 3ms/step - loss: 0.0716 - accuracy: 0.9802 - val_loss: 0.0876 - val_accuracy: 0.9737\n",
            "Epoch 65/100\n",
            "15/15 [==============================] - 0s 3ms/step - loss: 0.0714 - accuracy: 0.9802 - val_loss: 0.0870 - val_accuracy: 0.9737\n",
            "Epoch 66/100\n",
            "15/15 [==============================] - 0s 3ms/step - loss: 0.0713 - accuracy: 0.9802 - val_loss: 0.0868 - val_accuracy: 0.9737\n",
            "Epoch 67/100\n",
            "15/15 [==============================] - 0s 4ms/step - loss: 0.0711 - accuracy: 0.9802 - val_loss: 0.0866 - val_accuracy: 0.9737\n",
            "Epoch 68/100\n",
            "15/15 [==============================] - 0s 4ms/step - loss: 0.0709 - accuracy: 0.9802 - val_loss: 0.0865 - val_accuracy: 0.9737\n",
            "Epoch 69/100\n",
            "15/15 [==============================] - 0s 4ms/step - loss: 0.0708 - accuracy: 0.9802 - val_loss: 0.0866 - val_accuracy: 0.9737\n",
            "Epoch 70/100\n",
            "15/15 [==============================] - 0s 3ms/step - loss: 0.0706 - accuracy: 0.9802 - val_loss: 0.0863 - val_accuracy: 0.9737\n",
            "Epoch 71/100\n",
            "15/15 [==============================] - 0s 4ms/step - loss: 0.0705 - accuracy: 0.9802 - val_loss: 0.0860 - val_accuracy: 0.9737\n",
            "Epoch 72/100\n",
            "15/15 [==============================] - 0s 4ms/step - loss: 0.0703 - accuracy: 0.9802 - val_loss: 0.0858 - val_accuracy: 0.9737\n",
            "Epoch 73/100\n",
            "15/15 [==============================] - 0s 4ms/step - loss: 0.0702 - accuracy: 0.9802 - val_loss: 0.0857 - val_accuracy: 0.9737\n",
            "Epoch 74/100\n",
            "15/15 [==============================] - 0s 4ms/step - loss: 0.0700 - accuracy: 0.9802 - val_loss: 0.0855 - val_accuracy: 0.9737\n",
            "Epoch 75/100\n",
            "15/15 [==============================] - 0s 3ms/step - loss: 0.0699 - accuracy: 0.9802 - val_loss: 0.0852 - val_accuracy: 0.9737\n",
            "Epoch 76/100\n",
            "15/15 [==============================] - 0s 3ms/step - loss: 0.0697 - accuracy: 0.9802 - val_loss: 0.0850 - val_accuracy: 0.9737\n",
            "Epoch 77/100\n",
            "15/15 [==============================] - 0s 4ms/step - loss: 0.0696 - accuracy: 0.9802 - val_loss: 0.0848 - val_accuracy: 0.9737\n",
            "Epoch 78/100\n",
            "15/15 [==============================] - 0s 3ms/step - loss: 0.0694 - accuracy: 0.9802 - val_loss: 0.0850 - val_accuracy: 0.9737\n",
            "Epoch 79/100\n",
            "15/15 [==============================] - 0s 4ms/step - loss: 0.0693 - accuracy: 0.9802 - val_loss: 0.0849 - val_accuracy: 0.9737\n",
            "Epoch 80/100\n",
            "15/15 [==============================] - 0s 3ms/step - loss: 0.0692 - accuracy: 0.9802 - val_loss: 0.0846 - val_accuracy: 0.9737\n",
            "Epoch 81/100\n",
            "15/15 [==============================] - 0s 3ms/step - loss: 0.0691 - accuracy: 0.9802 - val_loss: 0.0846 - val_accuracy: 0.9737\n",
            "Epoch 82/100\n",
            "15/15 [==============================] - 0s 3ms/step - loss: 0.0689 - accuracy: 0.9802 - val_loss: 0.0843 - val_accuracy: 0.9737\n",
            "Epoch 83/100\n",
            "15/15 [==============================] - 0s 3ms/step - loss: 0.0688 - accuracy: 0.9802 - val_loss: 0.0840 - val_accuracy: 0.9737\n",
            "Epoch 84/100\n",
            "15/15 [==============================] - 0s 3ms/step - loss: 0.0686 - accuracy: 0.9802 - val_loss: 0.0839 - val_accuracy: 0.9737\n",
            "Epoch 85/100\n",
            "15/15 [==============================] - 0s 3ms/step - loss: 0.0685 - accuracy: 0.9802 - val_loss: 0.0836 - val_accuracy: 0.9737\n",
            "Epoch 86/100\n",
            "15/15 [==============================] - 0s 4ms/step - loss: 0.0683 - accuracy: 0.9824 - val_loss: 0.0834 - val_accuracy: 0.9737\n",
            "Epoch 87/100\n",
            "15/15 [==============================] - 0s 3ms/step - loss: 0.0682 - accuracy: 0.9824 - val_loss: 0.0831 - val_accuracy: 0.9737\n",
            "Epoch 88/100\n",
            "15/15 [==============================] - 0s 3ms/step - loss: 0.0681 - accuracy: 0.9824 - val_loss: 0.0830 - val_accuracy: 0.9737\n",
            "Epoch 89/100\n",
            "15/15 [==============================] - 0s 3ms/step - loss: 0.0680 - accuracy: 0.9824 - val_loss: 0.0828 - val_accuracy: 0.9737\n",
            "Epoch 90/100\n",
            "15/15 [==============================] - 0s 3ms/step - loss: 0.0678 - accuracy: 0.9824 - val_loss: 0.0829 - val_accuracy: 0.9737\n",
            "Epoch 91/100\n",
            "15/15 [==============================] - 0s 3ms/step - loss: 0.0677 - accuracy: 0.9824 - val_loss: 0.0831 - val_accuracy: 0.9737\n",
            "Epoch 92/100\n",
            "15/15 [==============================] - 0s 3ms/step - loss: 0.0677 - accuracy: 0.9824 - val_loss: 0.0830 - val_accuracy: 0.9737\n",
            "Epoch 93/100\n",
            "15/15 [==============================] - 0s 3ms/step - loss: 0.0676 - accuracy: 0.9824 - val_loss: 0.0827 - val_accuracy: 0.9737\n",
            "Epoch 94/100\n",
            "15/15 [==============================] - 0s 3ms/step - loss: 0.0674 - accuracy: 0.9824 - val_loss: 0.0826 - val_accuracy: 0.9737\n",
            "Epoch 95/100\n",
            "15/15 [==============================] - 0s 3ms/step - loss: 0.0673 - accuracy: 0.9824 - val_loss: 0.0825 - val_accuracy: 0.9737\n",
            "Epoch 96/100\n",
            "15/15 [==============================] - 0s 4ms/step - loss: 0.0672 - accuracy: 0.9824 - val_loss: 0.0823 - val_accuracy: 0.9737\n",
            "Epoch 97/100\n",
            "15/15 [==============================] - 0s 4ms/step - loss: 0.0670 - accuracy: 0.9824 - val_loss: 0.0822 - val_accuracy: 0.9737\n",
            "Epoch 98/100\n",
            "15/15 [==============================] - 0s 3ms/step - loss: 0.0669 - accuracy: 0.9824 - val_loss: 0.0820 - val_accuracy: 0.9737\n",
            "Epoch 99/100\n",
            "15/15 [==============================] - 0s 3ms/step - loss: 0.0668 - accuracy: 0.9824 - val_loss: 0.0817 - val_accuracy: 0.9737\n",
            "Epoch 100/100\n",
            "15/15 [==============================] - 0s 3ms/step - loss: 0.0667 - accuracy: 0.9824 - val_loss: 0.0816 - val_accuracy: 0.9737\n"
          ],
          "name": "stdout"
        }
      ]
    },
    {
      "cell_type": "code",
      "metadata": {
        "id": "zCDB1OHphILd",
        "colab_type": "code",
        "colab": {
          "base_uri": "https://localhost:8080/",
          "height": 85
        },
        "outputId": "bb16015f-862b-4401-9344-c84219b4eb85"
      },
      "source": [
        "#Print accuracy\n",
        "print(\"Train loss and accuracy: \", model.evaluate(X_train, Y_train))\n",
        "print(\"Test loss and accuracy: \", model.evaluate(X_test, Y_test))"
      ],
      "execution_count": 17,
      "outputs": [
        {
          "output_type": "stream",
          "text": [
            "15/15 [==============================] - 0s 1ms/step - loss: 0.0666 - accuracy: 0.9824\n",
            "Train loss and accuracy:  [0.0665825828909874, 0.9824175834655762]\n",
            "4/4 [==============================] - 0s 2ms/step - loss: 0.0816 - accuracy: 0.9737\n",
            "Test loss and accuracy:  [0.08158158510923386, 0.9736841917037964]\n"
          ],
          "name": "stdout"
        }
      ]
    },
    {
      "cell_type": "code",
      "metadata": {
        "id": "R_x24uhvhe2p",
        "colab_type": "code",
        "colab": {
          "base_uri": "https://localhost:8080/",
          "height": 283
        },
        "outputId": "a0fb4973-078c-4b11-ecba-d5270fc1ed64"
      },
      "source": [
        "import matplotlib.pyplot as plt\n",
        "plt.plot(r.history['loss'], label='training loss')\n",
        "plt.plot(r.history['val_loss'], label='validation loss')"
      ],
      "execution_count": 21,
      "outputs": [
        {
          "output_type": "execute_result",
          "data": {
            "text/plain": [
              "[<matplotlib.lines.Line2D at 0x7fe2e769ecf8>]"
            ]
          },
          "metadata": {
            "tags": []
          },
          "execution_count": 21
        },
        {
          "output_type": "display_data",
          "data": {
            "image/png": "[encoded data removed]",
            "text/plain": [
              "<Figure size 432x288 with 1 Axes>"
            ]
          },
          "metadata": {
            "tags": [],
            "needs_background": "light"
          }
        }
      ]
    },
    {
      "cell_type": "code",
      "metadata": {
        "id": "0iLcejB0jgIm",
        "colab_type": "code",
        "colab": {
          "base_uri": "https://localhost:8080/",
          "height": 282
        },
        "outputId": "85bde2ab-b7e5-444e-865f-925ff87abf11"
      },
      "source": [
        "plt.plot(r.history['accuracy'], label='training accuracy')\n",
        "plt.plot(r.history['val_accuracy'], label='validation accuracy')"
      ],
      "execution_count": 22,
      "outputs": [
        {
          "output_type": "execute_result",
          "data": {
            "text/plain": [
              "[<matplotlib.lines.Line2D at 0x7fe2e769ed30>]"
            ]
          },
          "metadata": {
            "tags": []
          },
          "execution_count": 22
        },
        {
          "output_type": "display_data",
          "data": {
            "image/png": "[encoded data removed]",
            "text/plain": [
              "<Figure size 432x288 with 1 Axes>"
            ]
          },
          "metadata": {
            "tags": [],
            "needs_background": "light"
          }
        }
      ]
    },
    {
      "cell_type": "code",
      "metadata": {
        "id": "A0rGLqlXj8J6",
        "colab_type": "code",
        "colab": {}
      },
      "source": [
        ""
      ],
      "execution_count": null,
      "outputs": []
    }
  ]
}